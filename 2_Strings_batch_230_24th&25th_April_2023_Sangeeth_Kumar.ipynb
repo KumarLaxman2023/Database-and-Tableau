{
 "cells": [
  {
   "cell_type": "markdown",
   "metadata": {
    "id": "jHJR9AEQd9BT"
   },
   "source": [
    "# Strings"
   ]
  },
  {
   "cell_type": "markdown",
   "metadata": {
    "id": "H1oJ-3b9d9BW"
   },
   "source": [
    "## Today's Agenda\n",
    "> ### What is Strings?\n",
    "> ### How to use Strings?\n",
    "> ### What are the different ways to create a strings?\n",
    "> ### How to concate multiple strings?\n",
    "> ### What are the methods availble in strings\n",
    "    - len()\n",
    "    - count()\n",
    "    - upper()\n",
    "    - lower()\n",
    "    - capitalize()\n",
    "    - title()\n",
    "    - find()\n",
    "    - replace()\n",
    "    - split()\n",
    "    - join()\n",
    "    - strip()\n",
    "    - isdigit()\n"
   ]
  },
  {
   "cell_type": "markdown",
   "metadata": {
    "id": "TQCyDISxd9BX"
   },
   "source": [
    "## What is String?"
   ]
  },
  {
   "cell_type": "markdown",
   "metadata": {
    "id": "271n923md9BX"
   },
   "source": [
    "  \n",
    "- A string is a sequence of characters.\n",
    "- Computers do not deal with characters, they deal with numbers (binary). Even though you may see characters on    your screen, internally it is stored and manipulated as a combination of 0's and 1's.\n",
    "- This conversion of character to a number is called encoding, and the reverse process is decoding. ASCII and Unicode are some of the popular encoding used.\n",
    "\n",
    "## Strings are Arrays\n",
    "Like many other popular programming languages, strings in Python are arrays of bytes representing unicode characters. However, Python does not have a character data type, a single character is simply a string with a length of 1. Square brackets can be used to access elements of the string."
   ]
  },
  {
   "cell_type": "markdown",
   "metadata": {
    "id": "lojDH5vLd9BY"
   },
   "source": [
    "### Ways to create strings"
   ]
  },
  {
   "cell_type": "code",
   "execution_count": null,
   "metadata": {
    "id": "oM_Ffnwwd9BY",
    "outputId": "13361d8f-c1c5-4946-af53-130e1f85ed06"
   },
   "outputs": [
    {
     "name": "stdout",
     "output_type": "stream",
     "text": [
      "Hello\n",
      "====================\n",
      "It's a string\n",
      "====================\n",
      " This is going to be a long string   \n",
      "which contains line breaks\n",
      "and is spread across three lines\n",
      "\n"
     ]
    }
   ],
   "source": [
    "strings = 'Hello' # single quotes\n",
    "\n",
    "print(strings)\n",
    "print(\"=\"*20)\n",
    "\n",
    "strings = \"It's a string\" # double quotes\n",
    "print(strings)\n",
    "print(\"=\"*20)\n",
    "# triple quotes\n",
    "a = \"\"\" This is going to be a long string   \n",
    "which contains line breaks\n",
    "and is spread across three lines\n",
    "\"\"\"\n",
    "print (a)"
   ]
  },
  {
   "cell_type": "markdown",
   "metadata": {
    "id": "eUKhmyU_d9BZ"
   },
   "source": [
    "**NOTE: String, List, Array indexing in Python always begins from 0**\n",
    "\n",
    "## String Slicing / String Indexing\n",
    "\n",
    "You can return a range of characters by using the slice syntax. Specify the start index and the end index, separated by a colon, to return a part of the string.\n",
    "\n",
    "We will learn advanced slicing when we study lists. Most of the indexing and slicing operations will be similar. Remember, python lists are different than arrays."
   ]
  },
  {
   "cell_type": "markdown",
   "metadata": {
    "id": "ppuACEXPd9Ba"
   },
   "source": [
    "![image.png](attachment:image.png)"
   ]
  },
  {
   "cell_type": "markdown",
   "metadata": {
    "id": "RLTcUsPRd9Ba"
   },
   "source": [
    "- Indexing position of the each char in a string\n",
    "\n",
    "- slicing is piece of the value of a string\n",
    "\n",
    "- denoted by `[ ] `\n",
    "\n",
    "- We can access individual characters using indexing and a range of characters using slicing.\n",
    "\n",
    "- Index starts from `0.` \n",
    "\n",
    "- Trying to access a character out of index range will raise an IndexError. \n",
    "\n",
    "- The index must be an integer. We can't use float or other types, this will result into TypeError.\n",
    "\n",
    "- Python allows negative indexing for its sequences."
   ]
  },
  {
   "cell_type": "code",
   "execution_count": null,
   "metadata": {
    "id": "KYbx_3pQd9Ba"
   },
   "outputs": [],
   "source": [
    "text = 'Python program'"
   ]
  },
  {
   "cell_type": "code",
   "execution_count": null,
   "metadata": {
    "id": "1OuxlvrTd9Bb",
    "outputId": "a4e18754-7b31-4540-ac7b-dd7efbd4ef1c"
   },
   "outputs": [
    {
     "data": {
      "text/plain": [
       "'P'"
      ]
     },
     "execution_count": 7,
     "metadata": {},
     "output_type": "execute_result"
    }
   ],
   "source": [
    "# print \"p\"\n",
    "text[0]"
   ]
  },
  {
   "cell_type": "code",
   "execution_count": null,
   "metadata": {
    "id": "CwStwu0qd9Bb",
    "outputId": "2bcc17d2-767b-40fd-a012-af8dd52a6610"
   },
   "outputs": [
    {
     "data": {
      "text/plain": [
       "'Pyt'"
      ]
     },
     "execution_count": 8,
     "metadata": {},
     "output_type": "execute_result"
    }
   ],
   "source": [
    "#printing Pyt\n",
    "# String concatination\n",
    "text[0]+text[1]+text[2]   "
   ]
  },
  {
   "cell_type": "markdown",
   "metadata": {
    "id": "tan3GkZ_d9Bb"
   },
   "source": [
    "- **`printing 'p' , 'y' , 't' `**"
   ]
  },
  {
   "cell_type": "code",
   "execution_count": null,
   "metadata": {
    "id": "sOuXVBVSd9Bc",
    "outputId": "3c6a33f0-4933-480a-d26c-5eaaf0562778"
   },
   "outputs": [
    {
     "data": {
      "text/plain": [
       "('P', 'y', 't')"
      ]
     },
     "execution_count": 9,
     "metadata": {},
     "output_type": "execute_result"
    }
   ],
   "source": [
    "text[0],text[1],text[2]"
   ]
  },
  {
   "cell_type": "code",
   "execution_count": null,
   "metadata": {
    "id": "kpGSvZ04d9Bc",
    "outputId": "03da6cc7-db61-481f-d0fa-3641c69de394"
   },
   "outputs": [
    {
     "data": {
      "text/plain": [
       "'r'"
      ]
     },
     "execution_count": 10,
     "metadata": {},
     "output_type": "execute_result"
    }
   ],
   "source": [
    "#printing last 3rd char of the value\n",
    "\n",
    "text[-3]"
   ]
  },
  {
   "cell_type": "code",
   "execution_count": null,
   "metadata": {
    "id": "yKQn6Pmhd9Bc",
    "outputId": "2e2edbb2-2298-4148-e691-e2475e0dea23"
   },
   "outputs": [
    {
     "data": {
      "text/plain": [
       "('r', 'a', 'm')"
      ]
     },
     "execution_count": 11,
     "metadata": {},
     "output_type": "execute_result"
    }
   ],
   "source": [
    "# last three character  [ 'r', 'a', 'm']\n",
    "\n",
    "text[-3],text[-2],text[-1]"
   ]
  },
  {
   "cell_type": "markdown",
   "metadata": {
    "id": "gqMmdb_wd9Bc"
   },
   "source": [
    "- [`` : `` ]  # Syntax for slicing\n",
    "\n",
    "\n",
    " - [   start position : stop position ]  stop is ( Execlusive )\n",
    " \n",
    " **Note: if stop is \"nth\" position then it gives \"n-1\" position value**\n"
   ]
  },
  {
   "cell_type": "code",
   "execution_count": null,
   "metadata": {
    "id": "tLK75U14d9Bc",
    "outputId": "79eb3d26-2e03-4003-acfc-ea480512141d"
   },
   "outputs": [
    {
     "data": {
      "text/plain": [
       "'Python program'"
      ]
     },
     "execution_count": 12,
     "metadata": {},
     "output_type": "execute_result"
    }
   ],
   "source": [
    "text[:]     # ALL Default all elements"
   ]
  },
  {
   "cell_type": "code",
   "execution_count": null,
   "metadata": {
    "id": "f49nRV5ed9Bd",
    "outputId": "e6b5eaa8-8e6d-4bde-9fb5-e0d1b042d565"
   },
   "outputs": [
    {
     "data": {
      "text/plain": [
       "'Python'"
      ]
     },
     "execution_count": 13,
     "metadata": {},
     "output_type": "execute_result"
    }
   ],
   "source": [
    "#print \"Python\"\n",
    "\n",
    "text[0:6]"
   ]
  },
  {
   "cell_type": "code",
   "execution_count": null,
   "metadata": {
    "id": "p_Msap1ud9Bd"
   },
   "outputs": [],
   "source": [
    "# different ways to print \"ram\" \n",
    "\n",
    "print(text[11:14])\n",
    "print(text[11:])\n",
    "print(text[-3:])"
   ]
  },
  {
   "cell_type": "markdown",
   "metadata": {
    "id": "KEyKLQCfd9Bd"
   },
   "source": [
    "The syntax for slicing is `var[start:stop:step]`\n",
    "- start: the beginning index of the group of elements we want to access\n",
    "- stop: the ending index of the group of elements we want to access\n",
    "- step: how many elements to skip, when accessing a group of elements"
   ]
  },
  {
   "cell_type": "code",
   "execution_count": null,
   "metadata": {
    "id": "isKJv9e4d9Bd",
    "outputId": "12651809-7117-46cb-8ce0-18a325170fe1"
   },
   "outputs": [
    {
     "data": {
      "text/plain": [
       "'Python'"
      ]
     },
     "execution_count": 15,
     "metadata": {},
     "output_type": "execute_result"
    }
   ],
   "source": [
    "text[0:6:1]"
   ]
  },
  {
   "cell_type": "code",
   "execution_count": null,
   "metadata": {
    "id": "BYhsvnxPd9Bd",
    "outputId": "135c0ee2-4375-4370-8de1-bb73bd8d11da"
   },
   "outputs": [
    {
     "data": {
      "text/plain": [
       "'Pto'"
      ]
     },
     "execution_count": 16,
     "metadata": {},
     "output_type": "execute_result"
    }
   ],
   "source": [
    "text[0:6:2]"
   ]
  },
  {
   "cell_type": "code",
   "execution_count": null,
   "metadata": {
    "id": "sQ8jkV2Ld9Be",
    "outputId": "dc29d29f-749d-4b23-8a45-794f0041eea2"
   },
   "outputs": [
    {
     "data": {
      "text/plain": [
       "'Pto rga'"
      ]
     },
     "execution_count": 17,
     "metadata": {},
     "output_type": "execute_result"
    }
   ],
   "source": [
    "text[::2]"
   ]
  },
  {
   "cell_type": "markdown",
   "metadata": {
    "id": "ign4aMO2d9Be"
   },
   "source": [
    "#### string reversing"
   ]
  },
  {
   "cell_type": "code",
   "execution_count": null,
   "metadata": {
    "id": "p6Tx0wCUd9Be",
    "outputId": "6b1b8657-08f4-4130-f4c9-e563ac2e37a7"
   },
   "outputs": [
    {
     "data": {
      "text/plain": [
       "'margorp nohtyP'"
      ]
     },
     "execution_count": 18,
     "metadata": {},
     "output_type": "execute_result"
    }
   ],
   "source": [
    "text[::-1]"
   ]
  },
  {
   "cell_type": "code",
   "execution_count": null,
   "metadata": {
    "id": "hD6ijOjYd9Be",
    "outputId": "f49b487f-95b0-442d-d385-b7c30190620b"
   },
   "outputs": [
    {
     "data": {
      "text/plain": [
       "'Python'"
      ]
     },
     "execution_count": 19,
     "metadata": {},
     "output_type": "execute_result"
    }
   ],
   "source": [
    "text[:6:1]"
   ]
  },
  {
   "cell_type": "code",
   "execution_count": null,
   "metadata": {
    "id": "QymvuYB5d9Bf",
    "outputId": "5c62e3c5-a270-4381-ed00-67cad39dc28d"
   },
   "outputs": [
    {
     "data": {
      "text/plain": [
       "'marg'"
      ]
     },
     "execution_count": 20,
     "metadata": {},
     "output_type": "execute_result"
    }
   ],
   "source": [
    "# get the sub-string 'marg' by using negative indexing\n",
    "text[-1:-5:-1]"
   ]
  },
  {
   "cell_type": "markdown",
   "metadata": {
    "id": "GhnqEivud9Bf"
   },
   "source": [
    "#### Some matematical operations can be performed on strings "
   ]
  },
  {
   "cell_type": "code",
   "execution_count": null,
   "metadata": {
    "id": "9kpOYN0td9Bf",
    "outputId": "8dfc3ecc-51ac-4ee5-cba2-4329f700deb9"
   },
   "outputs": [
    {
     "data": {
      "text/plain": [
       "'HiHello'"
      ]
     },
     "execution_count": 21,
     "metadata": {},
     "output_type": "execute_result"
    }
   ],
   "source": [
    "# If + operator is used between two strings, the two strings get added end-to-end\n",
    "# or they are appended to each other\n",
    "var = 'Hi' + 'Hello'\n",
    "var"
   ]
  },
  {
   "cell_type": "code",
   "execution_count": null,
   "metadata": {
    "id": "ZXVSmjiOd9Bf",
    "outputId": "aae359e7-b23d-4efe-8f59-87b9ee89578b"
   },
   "outputs": [
    {
     "data": {
      "text/plain": [
       "'********************'"
      ]
     },
     "execution_count": 23,
     "metadata": {},
     "output_type": "execute_result"
    }
   ],
   "source": [
    "# the * operator can be used with strings along with an inteeger. The string\n",
    "# gets appended n number of times to itself, end-to-end\n",
    "'*' * 20"
   ]
  },
  {
   "cell_type": "markdown",
   "metadata": {
    "id": "nG9jMLBid9Bg"
   },
   "source": [
    "#### to check for the string membership\n",
    "\n",
    "To check if a sub string is a part of a main string, we'll be using the `in` keyword"
   ]
  },
  {
   "cell_type": "code",
   "execution_count": null,
   "metadata": {
    "id": "Q8ArH-fFd9Bg"
   },
   "outputs": [],
   "source": [
    "var = \"innomatics\""
   ]
  },
  {
   "cell_type": "code",
   "execution_count": null,
   "metadata": {
    "id": "gWGEfZyId9Bg",
    "outputId": "8e6dcf80-4321-4d46-93d5-b66cc19c4773"
   },
   "outputs": [
    {
     "data": {
      "text/plain": [
       "True"
      ]
     },
     "execution_count": 25,
     "metadata": {},
     "output_type": "execute_result"
    }
   ],
   "source": [
    "# check if 'matic' is a part of var\n",
    "'matic' in var"
   ]
  },
  {
   "cell_type": "code",
   "execution_count": null,
   "metadata": {
    "id": "BLMsIl8Nd9Bg",
    "outputId": "92001843-41be-45ce-87b8-04f8e4709179"
   },
   "outputs": [
    {
     "data": {
      "text/plain": [
       "False"
      ]
     },
     "execution_count": 26,
     "metadata": {},
     "output_type": "execute_result"
    }
   ],
   "source": [
    "'mtic' in var"
   ]
  },
  {
   "cell_type": "code",
   "execution_count": null,
   "metadata": {
    "id": "lWOoOoCmd9Bg"
   },
   "outputs": [],
   "source": []
  },
  {
   "cell_type": "code",
   "execution_count": null,
   "metadata": {
    "id": "O8Ktsjvbd9Bg"
   },
   "outputs": [],
   "source": []
  },
  {
   "cell_type": "markdown",
   "metadata": {
    "id": "eTLi9RVtd9Bh"
   },
   "source": [
    "# Methods or Built-in Functions"
   ]
  },
  {
   "cell_type": "code",
   "execution_count": null,
   "metadata": {
    "id": "VaAWJ463d9Bh"
   },
   "outputs": [],
   "source": [
    "var = 'innomatics research labs'"
   ]
  },
  {
   "cell_type": "code",
   "execution_count": null,
   "metadata": {
    "id": "57Th-aLPd9Bh",
    "outputId": "824dbed9-7406-4373-ce6e-6a1caa1f9ffc"
   },
   "outputs": [
    {
     "data": {
      "text/plain": [
       "0"
      ]
     },
     "execution_count": 21,
     "metadata": {},
     "output_type": "execute_result"
    }
   ],
   "source": [
    "var.count('ra')"
   ]
  },
  {
   "cell_type": "code",
   "execution_count": null,
   "metadata": {
    "id": "Fk88e759d9Bh"
   },
   "outputs": [],
   "source": [
    "college = \"JNTU\""
   ]
  },
  {
   "cell_type": "code",
   "execution_count": null,
   "metadata": {
    "id": "7g6SSKqFd9Bh"
   },
   "outputs": [],
   "source": [
    "college.count()"
   ]
  },
  {
   "cell_type": "markdown",
   "metadata": {
    "id": "hFeozn0md9Bh"
   },
   "source": [
    "# len()\n",
    "-  to know the number of characters in a string"
   ]
  },
  {
   "cell_type": "code",
   "execution_count": null,
   "metadata": {
    "id": "w94UAtIJd9Bh",
    "outputId": "268e938a-6f54-4e16-c04f-838a79fd49a5"
   },
   "outputs": [
    {
     "data": {
      "text/plain": [
       "24"
      ]
     },
     "execution_count": 2,
     "metadata": {},
     "output_type": "execute_result"
    }
   ],
   "source": [
    "len(var)"
   ]
  },
  {
   "cell_type": "markdown",
   "metadata": {
    "id": "_mgmmO2Ad9Bh"
   },
   "source": [
    "# upper()\n",
    "- to make all the letters in the string capitals\n"
   ]
  },
  {
   "cell_type": "code",
   "execution_count": null,
   "metadata": {
    "id": "iC7l-TSBd9Bi",
    "outputId": "66150229-321c-47d9-b2f4-86d0db86af71"
   },
   "outputs": [
    {
     "data": {
      "text/plain": [
       "'INNOMATICS RESEARCH LABS'"
      ]
     },
     "execution_count": 29,
     "metadata": {},
     "output_type": "execute_result"
    }
   ],
   "source": [
    "var.upper()"
   ]
  },
  {
   "cell_type": "markdown",
   "metadata": {
    "id": "w8hD-GBgd9Bi"
   },
   "source": [
    "# lower()\n",
    "- to make all the letters in a string to lower case"
   ]
  },
  {
   "cell_type": "code",
   "execution_count": null,
   "metadata": {
    "id": "X0yAbkCfd9Bi",
    "outputId": "18d6567f-bdc8-4ecb-9113-2bf656b1bcaf"
   },
   "outputs": [
    {
     "data": {
      "text/plain": [
       "'innomatics research labs'"
      ]
     },
     "execution_count": 40,
     "metadata": {},
     "output_type": "execute_result"
    }
   ],
   "source": [
    "var.lower()"
   ]
  },
  {
   "cell_type": "markdown",
   "metadata": {
    "id": "lDqgMF2ed9Bi"
   },
   "source": [
    "# capitalize()\n",
    "- to make the starting letter in the entire string capital"
   ]
  },
  {
   "cell_type": "code",
   "execution_count": null,
   "metadata": {
    "id": "2Dl5jI68d9Bi",
    "outputId": "cc3e8cae-2e03-418e-fd96-f24556264895"
   },
   "outputs": [
    {
     "data": {
      "text/plain": [
       "'Innomatics research labs'"
      ]
     },
     "execution_count": 31,
     "metadata": {},
     "output_type": "execute_result"
    }
   ],
   "source": [
    "var.capitalize()"
   ]
  },
  {
   "cell_type": "code",
   "execution_count": null,
   "metadata": {
    "id": "XvCfYe0_d9Bi",
    "outputId": "cf8e95ae-7cb3-4adc-f700-8371b2e14a62"
   },
   "outputs": [
    {
     "data": {
      "text/plain": [
       "'innomatics research labs'"
      ]
     },
     "execution_count": 32,
     "metadata": {},
     "output_type": "execute_result"
    }
   ],
   "source": [
    "var"
   ]
  },
  {
   "cell_type": "markdown",
   "metadata": {
    "id": "6hXu0Mged9Bi"
   },
   "source": [
    "#### Note: In python, when we're trying to transform strings, the change obsrved is only valid until that cell and isn't made permanent. If we want the change to be made permanent , reassign the value back into the variable "
   ]
  },
  {
   "cell_type": "code",
   "execution_count": null,
   "metadata": {
    "id": "UlXqGVaMd9Bj",
    "outputId": "b2a5260a-8e4e-4081-ec75-225ad6305380"
   },
   "outputs": [
    {
     "name": "stdout",
     "output_type": "stream",
     "text": [
      "innomatics research labs\n",
      "INNOMATICS RESEARCH LABS\n"
     ]
    }
   ],
   "source": [
    "print(var)\n",
    "var = var.upper()\n",
    "print(var)"
   ]
  },
  {
   "cell_type": "markdown",
   "metadata": {
    "id": "2OlpQiabd9Bj"
   },
   "source": [
    "# title()\n",
    "- if we want to make the starting letter of every word in a string to be in caps\n"
   ]
  },
  {
   "cell_type": "code",
   "execution_count": null,
   "metadata": {
    "id": "jTbtra9Ud9Bj",
    "outputId": "10852950-2166-4f71-eecb-8f8e7aad2074"
   },
   "outputs": [
    {
     "data": {
      "text/plain": [
       "'Innomatics Research Labs'"
      ]
     },
     "execution_count": 16,
     "metadata": {},
     "output_type": "execute_result"
    }
   ],
   "source": [
    "var.title()"
   ]
  },
  {
   "cell_type": "markdown",
   "metadata": {
    "id": "JN5EGAFad9Bj"
   },
   "source": [
    "# count()\n",
    "-  to count the number of occurences of a sub-string in the main string"
   ]
  },
  {
   "cell_type": "code",
   "execution_count": null,
   "metadata": {
    "id": "9LcHtSGnd9Bj",
    "outputId": "ec263fec-a50c-446a-f137-a31b145cf372"
   },
   "outputs": [
    {
     "data": {
      "text/plain": [
       "'innomatics research labs'"
      ]
     },
     "execution_count": 28,
     "metadata": {},
     "output_type": "execute_result"
    }
   ],
   "source": [
    "var"
   ]
  },
  {
   "cell_type": "code",
   "execution_count": null,
   "metadata": {
    "id": "eg-gvolid9Bj",
    "outputId": "678c2eb8-d9cc-45df-bfbf-2a66d19fca77"
   },
   "outputs": [
    {
     "ename": "TypeError",
     "evalue": "count() takes at least 1 argument (0 given)",
     "output_type": "error",
     "traceback": [
      "\u001b[1;31m---------------------------------------------------------------------------\u001b[0m",
      "\u001b[1;31mTypeError\u001b[0m                                 Traceback (most recent call last)",
      "\u001b[1;32m<ipython-input-31-50192a21da89>\u001b[0m in \u001b[0;36m<module>\u001b[1;34m\u001b[0m\n\u001b[1;32m----> 1\u001b[1;33m \u001b[0mvar\u001b[0m\u001b[1;33m.\u001b[0m\u001b[0mcount\u001b[0m\u001b[1;33m(\u001b[0m\u001b[1;33m)\u001b[0m\u001b[1;33m\u001b[0m\u001b[1;33m\u001b[0m\u001b[0m\n\u001b[0m",
      "\u001b[1;31mTypeError\u001b[0m: count() takes at least 1 argument (0 given)"
     ]
    }
   ],
   "source": [
    "var.count()"
   ]
  },
  {
   "cell_type": "code",
   "execution_count": null,
   "metadata": {
    "id": "dete78Pqd9Bj",
    "outputId": "c8786b5e-626a-4f8a-fef8-7562ed293024"
   },
   "outputs": [
    {
     "ename": "NameError",
     "evalue": "name 'vars1' is not defined",
     "output_type": "error",
     "traceback": [
      "\u001b[1;31m---------------------------------------------------------------------------\u001b[0m",
      "\u001b[1;31mNameError\u001b[0m                                 Traceback (most recent call last)",
      "\u001b[1;32m<ipython-input-32-0f15f97630fb>\u001b[0m in \u001b[0;36m<module>\u001b[1;34m\u001b[0m\n\u001b[1;32m----> 1\u001b[1;33m \u001b[0mprint\u001b[0m\u001b[1;33m(\u001b[0m\u001b[0mvars1\u001b[0m\u001b[1;33m)\u001b[0m\u001b[1;33m\u001b[0m\u001b[1;33m\u001b[0m\u001b[0m\n\u001b[0m",
      "\u001b[1;31mNameError\u001b[0m: name 'vars1' is not defined"
     ]
    }
   ],
   "source": [
    "print(vars1)"
   ]
  },
  {
   "cell_type": "code",
   "execution_count": null,
   "metadata": {
    "id": "tWIFcv0zd9Bk",
    "outputId": "360e5fc2-b019-47bf-fb62-b04095fd32cc"
   },
   "outputs": [
    {
     "data": {
      "text/plain": [
       "0"
      ]
     },
     "execution_count": 37,
     "metadata": {},
     "output_type": "execute_result"
    }
   ],
   "source": [
    "var.count('a')"
   ]
  },
  {
   "cell_type": "markdown",
   "metadata": {
    "id": "Zj9nKzMid9Bk"
   },
   "source": [
    "# endswith()\n",
    "- to check whether a string is ending in the given sub-string"
   ]
  },
  {
   "cell_type": "code",
   "execution_count": null,
   "metadata": {
    "id": "38kHrWsDd9Bk",
    "outputId": "4e65d04b-30bd-42b9-9082-fa71e485eae2"
   },
   "outputs": [
    {
     "data": {
      "text/plain": [
       "'innomatics research labs'"
      ]
     },
     "execution_count": 25,
     "metadata": {},
     "output_type": "execute_result"
    }
   ],
   "source": [
    "var"
   ]
  },
  {
   "cell_type": "code",
   "execution_count": null,
   "metadata": {
    "id": "k9mU0nbJd9Bk",
    "outputId": "4a6b4549-c157-4ddc-d7b6-123479f44e6e"
   },
   "outputs": [
    {
     "data": {
      "text/plain": [
       "True"
      ]
     },
     "execution_count": 27,
     "metadata": {},
     "output_type": "execute_result"
    }
   ],
   "source": [
    "var.endswith(\"s\")"
   ]
  },
  {
   "cell_type": "code",
   "execution_count": null,
   "metadata": {
    "id": "NntI3QY6d9Bk",
    "outputId": "5a874f8b-f4a1-44f6-d965-729dbc65d6c8"
   },
   "outputs": [
    {
     "data": {
      "text/plain": [
       "False"
      ]
     },
     "execution_count": 45,
     "metadata": {},
     "output_type": "execute_result"
    }
   ],
   "source": [
    "var.endswith('b')"
   ]
  },
  {
   "cell_type": "markdown",
   "metadata": {
    "id": "YKcSQCEkd9Bk"
   },
   "source": [
    "# startswith()\n",
    "- to check whether a string starts with a given sequence"
   ]
  },
  {
   "cell_type": "code",
   "execution_count": null,
   "metadata": {
    "id": "UkFhDjDmd9Bk",
    "outputId": "d1b0660d-19d3-4faa-dd7a-cddc5da97cb4"
   },
   "outputs": [
    {
     "data": {
      "text/plain": [
       "'innomatics research labs'"
      ]
     },
     "execution_count": 22,
     "metadata": {},
     "output_type": "execute_result"
    }
   ],
   "source": [
    "var"
   ]
  },
  {
   "cell_type": "code",
   "execution_count": null,
   "metadata": {
    "id": "r6nlfUSnd9Bl",
    "outputId": "96fbc98c-adc7-471f-ad97-d7f8d20c528b"
   },
   "outputs": [
    {
     "data": {
      "text/plain": [
       "False"
      ]
     },
     "execution_count": 24,
     "metadata": {},
     "output_type": "execute_result"
    }
   ],
   "source": [
    "var.startswith(\"z\")"
   ]
  },
  {
   "cell_type": "code",
   "execution_count": null,
   "metadata": {
    "id": "bptzwHKWd9Bl",
    "outputId": "b9ef27b9-b135-48ba-ce7b-abff04f45ebc"
   },
   "outputs": [
    {
     "data": {
      "text/plain": [
       "False"
      ]
     },
     "execution_count": 47,
     "metadata": {},
     "output_type": "execute_result"
    }
   ],
   "source": [
    "var.startswith('I')"
   ]
  },
  {
   "cell_type": "markdown",
   "metadata": {
    "id": "K0E8bF6qd9Bl"
   },
   "source": [
    "# find()\n",
    "- find() returns the index position of the starting character of the sub-string\n"
   ]
  },
  {
   "cell_type": "code",
   "execution_count": null,
   "metadata": {
    "id": "bhVluCnEd9Bl",
    "outputId": "e99d5f0e-8cda-4f1c-9ee8-cbb68978cd27"
   },
   "outputs": [
    {
     "data": {
      "text/plain": [
       "'innomatics research labs'"
      ]
     },
     "execution_count": 33,
     "metadata": {},
     "output_type": "execute_result"
    }
   ],
   "source": [
    "var"
   ]
  },
  {
   "cell_type": "code",
   "execution_count": null,
   "metadata": {
    "id": "F6JJnC49d9Bl",
    "outputId": "483f31b4-c52e-43d7-da5c-63acff95f5f8"
   },
   "outputs": [
    {
     "data": {
      "text/plain": [
       "21"
      ]
     },
     "execution_count": 39,
     "metadata": {},
     "output_type": "execute_result"
    }
   ],
   "source": [
    "var.find('a',16)"
   ]
  },
  {
   "cell_type": "code",
   "execution_count": null,
   "metadata": {
    "id": "vbcDUZaRd9Bl",
    "outputId": "7f659903-c319-4f65-8ff2-539c956dbf75"
   },
   "outputs": [
    {
     "data": {
      "text/plain": [
       "-1"
      ]
     },
     "execution_count": 41,
     "metadata": {},
     "output_type": "execute_result"
    }
   ],
   "source": [
    "var.find('Z')"
   ]
  },
  {
   "cell_type": "code",
   "execution_count": null,
   "metadata": {
    "id": "f3vd02gId9Bl",
    "outputId": "f3e1c9a6-d1eb-4f2a-b10c-5a6c5e1ab568"
   },
   "outputs": [
    {
     "data": {
      "text/plain": [
       "11"
      ]
     },
     "execution_count": 40,
     "metadata": {},
     "output_type": "execute_result"
    }
   ],
   "source": [
    "# we're looking for\n",
    "var.find('research')"
   ]
  },
  {
   "cell_type": "code",
   "execution_count": null,
   "metadata": {
    "id": "Wtz43LnCd9Bm",
    "outputId": "def7a48e-9ce3-4fda-db75-c73915448d7c"
   },
   "outputs": [
    {
     "data": {
      "text/plain": [
       "5"
      ]
     },
     "execution_count": 50,
     "metadata": {},
     "output_type": "execute_result"
    }
   ],
   "source": [
    "var.find('a')"
   ]
  },
  {
   "cell_type": "code",
   "execution_count": null,
   "metadata": {
    "id": "SLOkrCjHd9Bm",
    "outputId": "3dc2a46c-3fe0-4f94-d6de-3b2788b85f6b"
   },
   "outputs": [
    {
     "data": {
      "text/plain": [
       "-1"
      ]
     },
     "execution_count": 51,
     "metadata": {},
     "output_type": "execute_result"
    }
   ],
   "source": [
    "var.find('Z')"
   ]
  },
  {
   "cell_type": "markdown",
   "metadata": {
    "id": "RB9RW_xgd9Bm"
   },
   "source": [
    "# index()\n",
    "- the index() method works similar to the find() method"
   ]
  },
  {
   "cell_type": "code",
   "execution_count": null,
   "metadata": {
    "id": "0kqQdAaod9Bm",
    "outputId": "914a5414-2d44-4e0e-9e65-50f107d02b7a"
   },
   "outputs": [
    {
     "data": {
      "text/plain": [
       "'innomatics research labs'"
      ]
     },
     "execution_count": 43,
     "metadata": {},
     "output_type": "execute_result"
    }
   ],
   "source": [
    "var"
   ]
  },
  {
   "cell_type": "code",
   "execution_count": null,
   "metadata": {
    "id": "3r10vMy7d9Bm",
    "outputId": "c233c42f-6608-4fee-bcc7-86eb4fd29c70"
   },
   "outputs": [
    {
     "data": {
      "text/plain": [
       "20"
      ]
     },
     "execution_count": 42,
     "metadata": {},
     "output_type": "execute_result"
    }
   ],
   "source": [
    "var.index('l')"
   ]
  },
  {
   "cell_type": "code",
   "execution_count": null,
   "metadata": {
    "id": "GBNdJP4Hd9Bm",
    "outputId": "71d6f44f-d966-4042-bf41-bc7fd14c9cba"
   },
   "outputs": [
    {
     "ename": "ValueError",
     "evalue": "substring not found",
     "output_type": "error",
     "traceback": [
      "\u001b[1;31m---------------------------------------------------------------------------\u001b[0m",
      "\u001b[1;31mValueError\u001b[0m                                Traceback (most recent call last)",
      "\u001b[1;32m<ipython-input-44-55acb23ed27c>\u001b[0m in \u001b[0;36m<module>\u001b[1;34m\u001b[0m\n\u001b[1;32m----> 1\u001b[1;33m \u001b[0mvar\u001b[0m\u001b[1;33m.\u001b[0m\u001b[0mindex\u001b[0m\u001b[1;33m(\u001b[0m\u001b[1;34m\"Z\"\u001b[0m\u001b[1;33m)\u001b[0m\u001b[1;33m\u001b[0m\u001b[1;33m\u001b[0m\u001b[0m\n\u001b[0m",
      "\u001b[1;31mValueError\u001b[0m: substring not found"
     ]
    }
   ],
   "source": [
    "var.index(\"Z\")"
   ]
  },
  {
   "cell_type": "code",
   "execution_count": null,
   "metadata": {
    "id": "RP6-cHr4d9Bm",
    "outputId": "6aa7b9c4-2801-462c-9fff-a9c99c013533"
   },
   "outputs": [
    {
     "ename": "ValueError",
     "evalue": "substring not found",
     "output_type": "error",
     "traceback": [
      "\u001b[1;31m---------------------------------------------------------------------------\u001b[0m",
      "\u001b[1;31mValueError\u001b[0m                                Traceback (most recent call last)",
      "\u001b[1;32m<ipython-input-53-d8c4e707f272>\u001b[0m in \u001b[0;36m<module>\u001b[1;34m\u001b[0m\n\u001b[1;32m----> 1\u001b[1;33m \u001b[0mvar\u001b[0m\u001b[1;33m.\u001b[0m\u001b[0mindex\u001b[0m\u001b[1;33m(\u001b[0m\u001b[1;34m'Z'\u001b[0m\u001b[1;33m)\u001b[0m\u001b[1;33m\u001b[0m\u001b[1;33m\u001b[0m\u001b[0m\n\u001b[0m",
      "\u001b[1;31mValueError\u001b[0m: substring not found"
     ]
    }
   ],
   "source": [
    "var.index('Z')"
   ]
  },
  {
   "cell_type": "markdown",
   "metadata": {
    "id": "WvgfP3Etd9Bn"
   },
   "source": [
    "# isdigit()\n",
    "-  to check if the string contains numerics\n"
   ]
  },
  {
   "cell_type": "code",
   "execution_count": null,
   "metadata": {
    "id": "zs46XmhWd9Bn",
    "outputId": "e30a4b00-d677-4be6-fad9-836d44dfae7f"
   },
   "outputs": [
    {
     "data": {
      "text/plain": [
       "'innomatics research labs'"
      ]
     },
     "execution_count": 45,
     "metadata": {},
     "output_type": "execute_result"
    }
   ],
   "source": [
    "var"
   ]
  },
  {
   "cell_type": "code",
   "execution_count": null,
   "metadata": {
    "id": "cKOQNYPrd9Bn",
    "outputId": "0416b7e8-3bb3-480e-f498-458becf9b143"
   },
   "outputs": [
    {
     "data": {
      "text/plain": [
       "False"
      ]
     },
     "execution_count": 46,
     "metadata": {},
     "output_type": "execute_result"
    }
   ],
   "source": [
    "var.isdigit()"
   ]
  },
  {
   "cell_type": "code",
   "execution_count": null,
   "metadata": {
    "id": "Dtr9u2Ifd9Bn",
    "outputId": "190ce2fb-d0b4-4551-d5af-3e3151b52ca3"
   },
   "outputs": [
    {
     "data": {
      "text/plain": [
       "False"
      ]
     },
     "execution_count": 47,
     "metadata": {},
     "output_type": "execute_result"
    }
   ],
   "source": [
    "s = \"San777\"\n",
    "s.isdigit()"
   ]
  },
  {
   "cell_type": "code",
   "execution_count": null,
   "metadata": {
    "id": "Y6x0hnkkd9Bn",
    "outputId": "a77fb38e-9611-4c9a-f568-e38219d24333"
   },
   "outputs": [
    {
     "data": {
      "text/plain": [
       "True"
      ]
     },
     "execution_count": 48,
     "metadata": {},
     "output_type": "execute_result"
    }
   ],
   "source": [
    "d = \"777345\"\n",
    "d.isdigit()"
   ]
  },
  {
   "cell_type": "markdown",
   "metadata": {
    "id": "T0p0yuAcd9Bn"
   },
   "source": [
    "# replace()\n",
    "- if we want to replace part of a string with a replacement"
   ]
  },
  {
   "cell_type": "code",
   "execution_count": null,
   "metadata": {
    "id": "gs2ir_Dnd9Bn",
    "outputId": "d7dfadd4-a23e-484d-b1ac-db84a3602f58"
   },
   "outputs": [
    {
     "data": {
      "text/plain": [
       "'innomatics research labs'"
      ]
     },
     "execution_count": 49,
     "metadata": {},
     "output_type": "execute_result"
    }
   ],
   "source": [
    "var"
   ]
  },
  {
   "cell_type": "code",
   "execution_count": null,
   "metadata": {
    "id": "YNaZwPUVd9Bo"
   },
   "outputs": [],
   "source": [
    "var = var.replace('a','@')"
   ]
  },
  {
   "cell_type": "code",
   "execution_count": null,
   "metadata": {
    "id": "DQ2HCTj6d9Bo",
    "outputId": "07e0d9cb-7558-45f9-f5fd-4aec12f413d0"
   },
   "outputs": [
    {
     "data": {
      "text/plain": [
       "'innom@tics rese@rch l@bs'"
      ]
     },
     "execution_count": 54,
     "metadata": {},
     "output_type": "execute_result"
    }
   ],
   "source": [
    "var"
   ]
  },
  {
   "cell_type": "markdown",
   "metadata": {
    "id": "qrtqcOb8d9Bo"
   },
   "source": [
    "# strip()\n",
    "- to remove any leading and trailing white spaces and new line characters"
   ]
  },
  {
   "cell_type": "code",
   "execution_count": null,
   "metadata": {
    "id": "cakDhpEzd9Bo",
    "outputId": "12829ce5-ef7d-4b25-d80b-5a15927d2188"
   },
   "outputs": [
    {
     "name": "stdout",
     "output_type": "stream",
     "text": [
      "$Hello$\n",
      "Hello\n"
     ]
    }
   ],
   "source": [
    "va3 = '$Hello$'\n",
    "print(va3)\n",
    "va3 = va3.strip('$')\n",
    "print(va3)"
   ]
  },
  {
   "cell_type": "code",
   "execution_count": null,
   "metadata": {
    "id": "gYQosp2qd9Bo",
    "outputId": "140b23cb-d7a4-4522-f721-f9c188fe78a0"
   },
   "outputs": [
    {
     "data": {
      "text/plain": [
       "'How are you?'"
      ]
     },
     "execution_count": 59,
     "metadata": {},
     "output_type": "execute_result"
    }
   ],
   "source": [
    "va1.strip()"
   ]
  },
  {
   "cell_type": "markdown",
   "metadata": {
    "id": "49L9UE4vd9Bo"
   },
   "source": [
    "# split()\n",
    "- splitting a string into sub-strings based on default delimter(space)"
   ]
  },
  {
   "cell_type": "code",
   "execution_count": null,
   "metadata": {
    "id": "niU-0eiZd9Bo",
    "outputId": "e12a3c0c-3857-4c06-9a81-79a3fda6a4fb"
   },
   "outputs": [
    {
     "data": {
      "text/plain": [
       "'innom@tics rese@rch l@bs'"
      ]
     },
     "execution_count": 66,
     "metadata": {},
     "output_type": "execute_result"
    }
   ],
   "source": [
    "var"
   ]
  },
  {
   "cell_type": "code",
   "execution_count": null,
   "metadata": {
    "id": "FwU8gnwJd9Bo",
    "outputId": "b204b0cf-2454-4b94-e9ac-88de7d92880a"
   },
   "outputs": [
    {
     "data": {
      "text/plain": [
       "['innom@tics', 'rese@rch', 'l@bs']"
      ]
     },
     "execution_count": 69,
     "metadata": {},
     "output_type": "execute_result"
    }
   ],
   "source": [
    "var.split()"
   ]
  },
  {
   "cell_type": "code",
   "execution_count": null,
   "metadata": {
    "id": "6z1R9jI9d9Bp",
    "outputId": "60ea619b-61a4-423b-d6cf-d7995d26be29"
   },
   "outputs": [
    {
     "data": {
      "text/plain": [
       "['innom', 'tics rese', 'rch l', 'bs']"
      ]
     },
     "execution_count": 70,
     "metadata": {},
     "output_type": "execute_result"
    }
   ],
   "source": [
    "var.split('@')"
   ]
  },
  {
   "cell_type": "markdown",
   "metadata": {
    "id": "4QwlaO1bd9Bp"
   },
   "source": [
    "- splitting a string into sub-strings based on given symbols or characters"
   ]
  },
  {
   "cell_type": "code",
   "execution_count": null,
   "metadata": {
    "id": "yPW9VoLcd9Bp",
    "outputId": "4a928805-1c8a-4213-b025-d0e9ef108d91"
   },
   "outputs": [
    {
     "data": {
      "text/plain": [
       "['innom', 'tics rese', 'rch l', 'bs']"
      ]
     },
     "execution_count": 62,
     "metadata": {},
     "output_type": "execute_result"
    }
   ],
   "source": [
    "var.split('a')"
   ]
  },
  {
   "cell_type": "code",
   "execution_count": null,
   "metadata": {
    "id": "JeL15PQsd9Bp",
    "outputId": "3e56c4d6-e8e0-4a4b-dfc4-e71e7119f91f"
   },
   "outputs": [
    {
     "data": {
      "text/plain": [
       "['innomatics research labs']"
      ]
     },
     "execution_count": 63,
     "metadata": {},
     "output_type": "execute_result"
    }
   ],
   "source": [
    "var.split(',')"
   ]
  },
  {
   "cell_type": "markdown",
   "metadata": {
    "id": "MWKzIME2d9Bp"
   },
   "source": [
    "# format()\n",
    "- The format() method is used to make parts of a string dynamic"
   ]
  },
  {
   "cell_type": "code",
   "execution_count": null,
   "metadata": {
    "id": "WCu7H6K8d9Bp",
    "outputId": "bfa2aea0-b54e-49c9-e24c-1ccdf8051147"
   },
   "outputs": [
    {
     "name": "stdout",
     "output_type": "stream",
     "text": [
      "Today is Wednesday\n"
     ]
    }
   ],
   "source": [
    "date = 'Today is Wednesday'\n",
    "print(date)"
   ]
  },
  {
   "cell_type": "code",
   "execution_count": null,
   "metadata": {
    "id": "obzQG7Fnd9Bp",
    "outputId": "36613a02-dcc6-4dd6-b6b5-f69c862d6ff9"
   },
   "outputs": [
    {
     "name": "stdout",
     "output_type": "stream",
     "text": [
      "Today is Wednesday and it is cloudy\n"
     ]
    }
   ],
   "source": [
    "# passing the values to the placeholders using the default order\n",
    "print('Today is {} and it is {}'.format('Wednesday','cloudy'))"
   ]
  },
  {
   "cell_type": "code",
   "execution_count": null,
   "metadata": {
    "id": "WmWGQNzMd9Bq",
    "outputId": "86889a69-d61d-4502-96a9-0a56ec9e1a01"
   },
   "outputs": [
    {
     "name": "stdout",
     "output_type": "stream",
     "text": [
      "Today is Wednesday and it is cloudy\n"
     ]
    }
   ],
   "source": [
    "# passing the values to the placeholders using the positional order\n",
    "print('Today is {1} and it is {0}'.format('cloudy','Wednesday'))"
   ]
  },
  {
   "cell_type": "code",
   "execution_count": null,
   "metadata": {
    "id": "NL9CZktVd9Bq",
    "outputId": "35bd3a8e-951c-4e77-feaa-dd45a1f41ec4"
   },
   "outputs": [
    {
     "name": "stdout",
     "output_type": "stream",
     "text": [
      "Today is Wednesday and it is cloudy.It is afternoon\n"
     ]
    }
   ],
   "source": [
    "# passing the values to the placeholders using the keyword order\n",
    "print('Today is {d} and it is {w}.It is {t}'.format(w='cloudy',t='afternoon',d='Wednesday'))"
   ]
  },
  {
   "cell_type": "code",
   "execution_count": null,
   "metadata": {
    "id": "O4CZpbYzd9Bq",
    "outputId": "8ce01992-b66d-41c1-e349-e2c74b9b6e6e"
   },
   "outputs": [
    {
     "name": "stdout",
     "output_type": "stream",
     "text": [
      "Enter your name: Ram\n",
      "How are you, Ram?\n"
     ]
    }
   ],
   "source": [
    "name = input('Enter your name: ')\n",
    "print('How are you, {}?'.format(name.capitalize()))"
   ]
  },
  {
   "cell_type": "markdown",
   "metadata": {
    "id": "FR8ME63kd9Bq"
   },
   "source": [
    "# User input / Dynamical entry\n",
    "> ### input()"
   ]
  },
  {
   "cell_type": "code",
   "execution_count": null,
   "metadata": {
    "id": "XPhqdatid9Bq",
    "outputId": "c7702317-d78e-4d35-9aed-66136e0319a7"
   },
   "outputs": [
    {
     "name": "stdout",
     "output_type": "stream",
     "text": [
      "Please enter your name: vijay\n"
     ]
    }
   ],
   "source": [
    "name = input(\"Please enter your name: \")"
   ]
  },
  {
   "cell_type": "code",
   "execution_count": null,
   "metadata": {
    "id": "N-elp-yCd9Bq",
    "outputId": "74a94b9e-8ee8-4fdf-a7c8-726583ceaad6"
   },
   "outputs": [
    {
     "data": {
      "text/plain": [
       "'vijay'"
      ]
     },
     "execution_count": 75,
     "metadata": {},
     "output_type": "execute_result"
    }
   ],
   "source": [
    "name"
   ]
  },
  {
   "cell_type": "code",
   "execution_count": null,
   "metadata": {
    "id": "UpeXXbKWd9Bq",
    "outputId": "6386eb68-cc79-4711-cc46-18e414af8799"
   },
   "outputs": [
    {
     "name": "stdout",
     "output_type": "stream",
     "text": [
      "Please enter your age: 20\n"
     ]
    }
   ],
   "source": [
    "age = input(\"Please enter your age: \")"
   ]
  },
  {
   "cell_type": "code",
   "execution_count": null,
   "metadata": {
    "id": "y388gMuId9Bq"
   },
   "outputs": [],
   "source": [
    "age = int(age)"
   ]
  },
  {
   "cell_type": "code",
   "execution_count": null,
   "metadata": {
    "id": "VIvJjm6hd9Br",
    "outputId": "81b715a4-5ae4-4f5f-b234-0602441dfc65"
   },
   "outputs": [
    {
     "data": {
      "text/plain": [
       "20"
      ]
     },
     "execution_count": 81,
     "metadata": {},
     "output_type": "execute_result"
    }
   ],
   "source": [
    "age"
   ]
  },
  {
   "cell_type": "code",
   "execution_count": null,
   "metadata": {
    "id": "u7GFGFkmd9Br",
    "outputId": "1129a366-8259-414d-d9d4-f3c42618a760"
   },
   "outputs": [
    {
     "name": "stdout",
     "output_type": "stream",
     "text": [
      "Enter a number: 1000\n",
      "1000\n",
      "<class 'str'>\n"
     ]
    }
   ],
   "source": [
    "num = input('Enter a number: ')\n",
    "print(num)\n",
    "print(type(num))"
   ]
  },
  {
   "cell_type": "code",
   "execution_count": null,
   "metadata": {
    "id": "03QqoFj7d9Br"
   },
   "outputs": [],
   "source": []
  },
  {
   "cell_type": "markdown",
   "metadata": {
    "id": "4LcuR4ORd9Br"
   },
   "source": [
    "# Type-casting\n",
    "- Type casting is the process of changing a compatible data-type to the other. \n",
    "- Like, every datatype can be converted to a string but the reverse is not true. \n",
    "- Type casting is achieved by passing the datatype to be converted as an argument to the constructer of the data type we want it to be converted to"
   ]
  },
  {
   "cell_type": "code",
   "execution_count": null,
   "metadata": {
    "id": "811jyp1Pd9Br"
   },
   "outputs": [],
   "source": [
    "a = 10\n",
    "b = 3.14\n",
    "c = '78'\n",
    "d = 'Hello'"
   ]
  },
  {
   "cell_type": "code",
   "execution_count": null,
   "metadata": {
    "id": "MQffuczJd9Br",
    "outputId": "e276df33-3cdf-466a-b0f6-b82099616993"
   },
   "outputs": [
    {
     "name": "stdout",
     "output_type": "stream",
     "text": [
      "<class 'int'>\n",
      "<class 'float'>\n"
     ]
    }
   ],
   "source": [
    "# convert int to float\n",
    "print(type(a))\n",
    "a = float(a)\n",
    "print(type(a))"
   ]
  },
  {
   "cell_type": "code",
   "execution_count": null,
   "metadata": {
    "id": "a_107Av4d9Bs",
    "outputId": "9d11d13a-0757-4417-8464-c96d30ce6ec7"
   },
   "outputs": [
    {
     "name": "stdout",
     "output_type": "stream",
     "text": [
      "78\n",
      "<class 'str'>\n",
      "78\n",
      "<class 'int'>\n"
     ]
    }
   ],
   "source": [
    "# convert a str to an int\n",
    "print(c)\n",
    "print(type(c))\n",
    "c = int(c)\n",
    "print(c)\n",
    "print(type(c))"
   ]
  },
  {
   "cell_type": "code",
   "execution_count": null,
   "metadata": {
    "id": "ex4eZX3Id9Bs",
    "outputId": "7795cf19-08f6-4fa8-853d-4df5235819a5"
   },
   "outputs": [
    {
     "name": "stdout",
     "output_type": "stream",
     "text": [
      "Hello\n",
      "<class 'str'>\n"
     ]
    },
    {
     "ename": "ValueError",
     "evalue": "could not convert string to float: 'Hello'",
     "output_type": "error",
     "traceback": [
      "\u001b[1;31m---------------------------------------------------------------------------\u001b[0m",
      "\u001b[1;31mValueError\u001b[0m                                Traceback (most recent call last)",
      "\u001b[1;32m<ipython-input-73-6175213ad61e>\u001b[0m in \u001b[0;36m<module>\u001b[1;34m\u001b[0m\n\u001b[0;32m      2\u001b[0m \u001b[0mprint\u001b[0m\u001b[1;33m(\u001b[0m\u001b[0md\u001b[0m\u001b[1;33m)\u001b[0m\u001b[1;33m\u001b[0m\u001b[1;33m\u001b[0m\u001b[0m\n\u001b[0;32m      3\u001b[0m \u001b[0mprint\u001b[0m\u001b[1;33m(\u001b[0m\u001b[0mtype\u001b[0m\u001b[1;33m(\u001b[0m\u001b[0md\u001b[0m\u001b[1;33m)\u001b[0m\u001b[1;33m)\u001b[0m\u001b[1;33m\u001b[0m\u001b[1;33m\u001b[0m\u001b[0m\n\u001b[1;32m----> 4\u001b[1;33m \u001b[0md\u001b[0m \u001b[1;33m=\u001b[0m \u001b[0mfloat\u001b[0m\u001b[1;33m(\u001b[0m\u001b[0md\u001b[0m\u001b[1;33m)\u001b[0m\u001b[1;33m\u001b[0m\u001b[1;33m\u001b[0m\u001b[0m\n\u001b[0m\u001b[0;32m      5\u001b[0m \u001b[0mprint\u001b[0m\u001b[1;33m(\u001b[0m\u001b[0md\u001b[0m\u001b[1;33m)\u001b[0m\u001b[1;33m\u001b[0m\u001b[1;33m\u001b[0m\u001b[0m\n\u001b[0;32m      6\u001b[0m \u001b[0mprint\u001b[0m\u001b[1;33m(\u001b[0m\u001b[0mtype\u001b[0m\u001b[1;33m(\u001b[0m\u001b[0md\u001b[0m\u001b[1;33m)\u001b[0m\u001b[1;33m)\u001b[0m\u001b[1;33m\u001b[0m\u001b[1;33m\u001b[0m\u001b[0m\n",
      "\u001b[1;31mValueError\u001b[0m: could not convert string to float: 'Hello'"
     ]
    }
   ],
   "source": [
    "# convert a str to float\n",
    "print(d)\n",
    "print(type(d))\n",
    "d = float(d)\n",
    "print(d)\n",
    "print(type(d))"
   ]
  },
  {
   "cell_type": "code",
   "execution_count": null,
   "metadata": {
    "id": "JtNEJnIbd9Bs"
   },
   "outputs": [],
   "source": [
    "s = '''A final benefit of instruction finetuning on CoT data both with and without exemplars is that the resulting\n",
    "model is able to perform CoT reasoning in a zero-shot setting. This zero-shot setting is important because it\n",
    "tests the ability for the model to produce its own reasoning skills without few-shot exemplars for CoT, which\n",
    "can require substantial prompt engineering to compose properly.'''\n"
   ]
  },
  {
   "cell_type": "code",
   "execution_count": null,
   "metadata": {
    "id": "SJc9DKptd9Bs",
    "outputId": "2eb4d515-c723-4419-e909-69ccd9fa6718"
   },
   "outputs": [
    {
     "data": {
      "text/plain": [
       "'A final benefit of instruction finetuning on CoT data both with and without exemplars is that the resulting\\nmodel is able to perform CoT reasoning in a zero-shot setting. This zero-shot setting is important because it\\ntests the ability for the model to produce its own reasoning skills without few-shot exemplars for CoT, which\\ncan require substantial prompt engineering to compose properly.'"
      ]
     },
     "execution_count": 83,
     "metadata": {},
     "output_type": "execute_result"
    }
   ],
   "source": [
    "s"
   ]
  },
  {
   "cell_type": "code",
   "execution_count": null,
   "metadata": {
    "id": "Np672FBid9Bs",
    "outputId": "529b2790-fe46-4f0f-dd79-a114c713bbf9"
   },
   "outputs": [
    {
     "data": {
      "text/plain": [
       "62"
      ]
     },
     "execution_count": 108,
     "metadata": {},
     "output_type": "execute_result"
    }
   ],
   "source": [
    "len(s.split())"
   ]
  },
  {
   "cell_type": "code",
   "execution_count": null,
   "metadata": {
    "id": "mmZIC5AEd9Bs"
   },
   "outputs": [],
   "source": [
    "d = \"Data Science\""
   ]
  },
  {
   "cell_type": "code",
   "execution_count": null,
   "metadata": {
    "id": "yvUnG9R8d9Bs",
    "outputId": "b2bf3169-5f6e-43c2-bd0e-e6e05a1db3c5"
   },
   "outputs": [
    {
     "data": {
      "text/plain": [
       "'eniSaa'"
      ]
     },
     "execution_count": 106,
     "metadata": {},
     "output_type": "execute_result"
    }
   ],
   "source": [
    "d[::-2]"
   ]
  },
  {
   "cell_type": "code",
   "execution_count": null,
   "metadata": {
    "id": "UTwcSW8gd9Bt",
    "outputId": "d16a8964-58e8-4b59-b0d6-433f529f47fc"
   },
   "outputs": [
    {
     "data": {
      "text/plain": [
       "'Sci'"
      ]
     },
     "execution_count": 91,
     "metadata": {},
     "output_type": "execute_result"
    }
   ],
   "source": [
    "d[-7:-4]"
   ]
  },
  {
   "cell_type": "code",
   "execution_count": null,
   "metadata": {
    "id": "_x9I2FOFd9Bt",
    "outputId": "ecd5ca49-3bd1-4fda-c53e-72d538f570af"
   },
   "outputs": [
    {
     "data": {
      "text/plain": [
       "'n'"
      ]
     },
     "execution_count": 87,
     "metadata": {},
     "output_type": "execute_result"
    }
   ],
   "source": [
    "d[-3]"
   ]
  },
  {
   "cell_type": "code",
   "execution_count": null,
   "metadata": {
    "id": "DuNGMfKkd9Bt",
    "outputId": "435f1072-3c90-4367-d278-b2f51fb2c56f"
   },
   "outputs": [
    {
     "data": {
      "text/plain": [
       "'c'"
      ]
     },
     "execution_count": 88,
     "metadata": {},
     "output_type": "execute_result"
    }
   ],
   "source": [
    "d[-6]"
   ]
  },
  {
   "cell_type": "code",
   "execution_count": null,
   "metadata": {
    "id": "Mpvidmc5d9Bt",
    "outputId": "d7eccb30-aeaf-4634-d813-67b26f7b3a1c"
   },
   "outputs": [
    {
     "data": {
      "text/plain": [
       "'Data Science'"
      ]
     },
     "execution_count": 92,
     "metadata": {},
     "output_type": "execute_result"
    }
   ],
   "source": [
    "d"
   ]
  },
  {
   "cell_type": "code",
   "execution_count": null,
   "metadata": {
    "id": "Kn5BFwh9d9Bt",
    "outputId": "ad16a1af-d584-431d-e884-d58a8abc914c"
   },
   "outputs": [
    {
     "data": {
      "text/plain": [
       "'Data'"
      ]
     },
     "execution_count": 99,
     "metadata": {},
     "output_type": "execute_result"
    }
   ],
   "source": [
    "d[:4]"
   ]
  },
  {
   "cell_type": "code",
   "execution_count": null,
   "metadata": {
    "id": "tSUpyGsad9Bt",
    "outputId": "e0d88307-d7a7-4ec5-cbd1-64ee4ca15e2b"
   },
   "outputs": [
    {
     "data": {
      "text/plain": [
       "'enc'"
      ]
     },
     "execution_count": 95,
     "metadata": {},
     "output_type": "execute_result"
    }
   ],
   "source": [
    "d[8:11:1]"
   ]
  },
  {
   "cell_type": "code",
   "execution_count": null,
   "metadata": {
    "id": "jgCkbWfgd9Bt"
   },
   "outputs": [],
   "source": [
    "# when we are starting from the initial index \n",
    "# it is not mandatory to mention the start index.\n",
    "\n",
    "# when we are ending with last index \n",
    "# it is not mandatory to mention the end index.\n",
    "\n",
    "# when stepsize is 1 it can be optional."
   ]
  }
 ],
 "metadata": {
  "colab": {
   "provenance": []
  },
  "kernelspec": {
   "display_name": "Python 3 (ipykernel)",
   "language": "python",
   "name": "python3"
  },
  "language_info": {
   "codemirror_mode": {
    "name": "ipython",
    "version": 3
   },
   "file_extension": ".py",
   "mimetype": "text/x-python",
   "name": "python",
   "nbconvert_exporter": "python",
   "pygments_lexer": "ipython3",
   "version": "3.9.13"
  }
 },
 "nbformat": 4,
 "nbformat_minor": 1
}
