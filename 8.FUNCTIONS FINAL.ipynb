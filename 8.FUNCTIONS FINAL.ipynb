{
 "cells": [
  {
   "cell_type": "code",
   "execution_count": 1,
   "id": "837ae2c6",
   "metadata": {},
   "outputs": [
    {
     "name": "stdout",
     "output_type": "stream",
     "text": [
      "C:\\Users\\user\\Innomatics\n"
     ]
    }
   ],
   "source": [
    "import datetime \n",
    "import pandas as pd\n",
    "import numpy as np\n",
    "import calendar as cal\n",
    "import dateutil as du\n",
    "from pandas.tseries.offsets import *\n",
    "from datetime import timedelta as TD\n",
    "import os as os\n",
    "import matplotlib as plt\n",
    "import statistics as stats\n",
    "print(os.getcwd())\n",
    "\n",
    "#new_path = \"C:\\\\Users\\\\user\\Data Analysis\\\\Datasets\"\n",
    "#os.chdir(new_path)"
   ]
  },
  {
   "cell_type": "code",
   "execution_count": 2,
   "id": "9fd1068c",
   "metadata": {},
   "outputs": [
    {
     "name": "stdout",
     "output_type": "stream",
     "text": [
      "start_time:  2023-05-16 13:04:30.933744\n"
     ]
    }
   ],
   "source": [
    "import datetime\n",
    "from datetime import timedelta as TD\n",
    "start_time = datetime.datetime.now()\n",
    "print(\"start_time: \", start_time)"
   ]
  },
  {
   "cell_type": "code",
   "execution_count": 17,
   "id": "0760aeef",
   "metadata": {},
   "outputs": [
    {
     "name": "stdout",
     "output_type": "stream",
     "text": [
      "dict_values([1, 3, 10])\n",
      "dict_keys(['A', 'B', 'c'])\n",
      "[1, 3, 10]\n"
     ]
    }
   ],
   "source": [
    "Samp1 = {\"A\" : 1, \"B\" :3, 'c' : 10}\n",
    "print(Samp1.values())\n",
    "print(Samp1.keys())\n",
    "print(list(Samp1.values()))"
   ]
  },
  {
   "cell_type": "code",
   "execution_count": 18,
   "id": "b7718c3c",
   "metadata": {},
   "outputs": [],
   "source": [
    "def sum_values_in_dict(A):\n",
    "    dict1 = dict(A) \n",
    "    dict2 = list(A.values())\n",
    "    print(sum(dict2))"
   ]
  },
  {
   "cell_type": "code",
   "execution_count": 19,
   "id": "fcb06264",
   "metadata": {},
   "outputs": [
    {
     "name": "stdout",
     "output_type": "stream",
     "text": [
      "14\n"
     ]
    }
   ],
   "source": [
    "sum_values_in_dict(Samp1)"
   ]
  },
  {
   "cell_type": "code",
   "execution_count": 6,
   "id": "9af19feb",
   "metadata": {},
   "outputs": [],
   "source": [
    "def custom_function_factorial(input_num):\n",
    "    if type(input_num)!=int:\n",
    "        print(\"Please pass number as input.\")\n",
    "    elif (input_num<0):\n",
    "        print(\"Please pass positive integer as input.\")        \n",
    "\n",
    "    final = 1\n",
    "    if type(input_num)==int:\n",
    "        for i in range(2,input_num+1):\n",
    "            final = final*i\n",
    "    if (type(input_num)==int) and (input_num>0) :\n",
    "        print(final)  "
   ]
  },
  {
   "cell_type": "code",
   "execution_count": 1,
   "id": "a90403cb",
   "metadata": {},
   "outputs": [],
   "source": [
    "def custom_function_factorial2(input_num):\n",
    "    if type(input_num)!=int:\n",
    "        print(\"Please pass number as input.\")\n",
    "    elif (input_num<0):\n",
    "        print(\"Please pass positive integer as input.\")\n",
    "    elif (type(input_num)==int) & (input_num ==0):\n",
    "        print(1)\n",
    "\n",
    "    final = 1\n",
    "    if type(input_num)==int:\n",
    "        for i in range(2,input_num+1):\n",
    "            final = final*i\n",
    "            \n",
    "    if (type(input_num)==int) and (input_num>0) :\n",
    "        print(final)  "
   ]
  },
  {
   "cell_type": "code",
   "execution_count": 2,
   "id": "a6dcf828",
   "metadata": {},
   "outputs": [],
   "source": [
    "def custom_factorial1(input_num):\n",
    "    if (type(input_num)!=int) or (input_num<0):\n",
    "        print(\"Please pass positive integer as input.\")\n",
    "        \n",
    "    final = 1\n",
    "    while(input_num>1):\n",
    "        final = input_num*final\n",
    "        input_num = input_num-1\n",
    "    print(final)"
   ]
  },
  {
   "cell_type": "code",
   "execution_count": 4,
   "id": "c5b7e27d",
   "metadata": {},
   "outputs": [
    {
     "name": "stdout",
     "output_type": "stream",
     "text": [
      "1\n"
     ]
    }
   ],
   "source": [
    "custom_factorial1(0)"
   ]
  },
  {
   "cell_type": "code",
   "execution_count": 10,
   "id": "9090f93a",
   "metadata": {},
   "outputs": [],
   "source": [
    "def custom_factorial2(input_num):\n",
    "    if (type(input_num)!=int) or (input_num<0):\n",
    "        print(\"Please pass positive integer as input.\")\n",
    "        \n",
    "    final = 1\n",
    "    while(input_num>1):\n",
    "        final = input_num*final\n",
    "        input_num = input_num-1\n",
    "    print(final)"
   ]
  },
  {
   "cell_type": "code",
   "execution_count": 11,
   "id": "b0dc4782",
   "metadata": {},
   "outputs": [
    {
     "name": "stdout",
     "output_type": "stream",
     "text": [
      "Please pass number as input.\n"
     ]
    }
   ],
   "source": [
    "custom_function_factorial('a')"
   ]
  },
  {
   "cell_type": "code",
   "execution_count": 12,
   "id": "a8999141",
   "metadata": {},
   "outputs": [
    {
     "name": "stdout",
     "output_type": "stream",
     "text": [
      "Please pass positive integer as input.\n"
     ]
    }
   ],
   "source": [
    "custom_function_factorial(-4)"
   ]
  },
  {
   "cell_type": "code",
   "execution_count": 13,
   "id": "bcc380b0",
   "metadata": {},
   "outputs": [
    {
     "name": "stdout",
     "output_type": "stream",
     "text": [
      "24\n"
     ]
    }
   ],
   "source": [
    "custom_function_factorial(4)"
   ]
  },
  {
   "cell_type": "markdown",
   "id": "089998c8",
   "metadata": {},
   "source": [
    "## Functions with Default values"
   ]
  },
  {
   "cell_type": "code",
   "execution_count": 20,
   "id": "8c9001f3",
   "metadata": {},
   "outputs": [],
   "source": [
    "#Functions with Default values\n",
    "def get_details(Name, City, State = 'Texas'):\n",
    "    return Name[:3] + City[-3:] + State[::2]"
   ]
  },
  {
   "cell_type": "code",
   "execution_count": null,
   "id": "1ad15d7c",
   "metadata": {},
   "outputs": [],
   "source": []
  },
  {
   "cell_type": "markdown",
   "id": "c49cb9b7",
   "metadata": {},
   "source": [
    "## Functions without Default values"
   ]
  },
  {
   "cell_type": "code",
   "execution_count": null,
   "id": "924e4ed7",
   "metadata": {},
   "outputs": [],
   "source": []
  },
  {
   "cell_type": "code",
   "execution_count": null,
   "id": "cd59959b",
   "metadata": {},
   "outputs": [],
   "source": []
  },
  {
   "cell_type": "code",
   "execution_count": null,
   "id": "f0113ce4",
   "metadata": {},
   "outputs": [],
   "source": [
    "# Type-3 - function with n number of elements\n",
    "# we dont know how may number of values are coming as input\n",
    "# *args = any number of elements\n",
    "# data will be taken as tuple\n",
    "def funct_\n"
   ]
  },
  {
   "cell_type": "markdown",
   "id": "8289a68f",
   "metadata": {},
   "source": [
    "## Task:\n",
    "1) Create a function which takes list as input & which are multiples of 3 * 5;\n",
    "\n",
    "2) create a function which takes a number as input & checks it is a paliadrone or not?\n",
    "paliadrone: if we a reverse string it is sames as oroiginal. ex: madam\n",
    "\n",
    "3) create a function which takes a ductionary as input & do the following\n",
    "\n",
    "d = {'Person_Details': [{\"Name\" : 'P1', 'Age': 10},\n",
    "{\"Name\" : 'P2', 'Age': 15},\n",
    "{\"Name\" : 'P3', 'Age': 6},\n",
    "{\"Name\" : 'P4', 'Age': 20}]}\n",
    "\n"
   ]
  },
  {
   "cell_type": "code",
   "execution_count": 53,
   "id": "fc58a3ce",
   "metadata": {},
   "outputs": [
    {
     "name": "stdout",
     "output_type": "stream",
     "text": [
      "P1 10\n",
      "P2 15\n"
     ]
    },
    {
     "ename": "AttributeError",
     "evalue": "'NoneType' object has no attribute 'append'",
     "output_type": "error",
     "traceback": [
      "\u001b[1;31m---------------------------------------------------------------------------\u001b[0m",
      "\u001b[1;31mAttributeError\u001b[0m                            Traceback (most recent call last)",
      "\u001b[1;32m~\\AppData\\Local\\Temp\\ipykernel_6972\\1715317907.py\u001b[0m in \u001b[0;36m<module>\u001b[1;34m\u001b[0m\n\u001b[0;32m     12\u001b[0m     \u001b[0mage\u001b[0m \u001b[1;33m=\u001b[0m \u001b[0mlist\u001b[0m\u001b[1;33m(\u001b[0m\u001b[0mlist\u001b[0m\u001b[1;33m(\u001b[0m\u001b[0mInput_1\u001b[0m\u001b[1;33m.\u001b[0m\u001b[0mvalues\u001b[0m\u001b[1;33m(\u001b[0m\u001b[1;33m)\u001b[0m\u001b[1;33m)\u001b[0m\u001b[1;33m[\u001b[0m\u001b[1;36m0\u001b[0m\u001b[1;33m]\u001b[0m\u001b[1;33m[\u001b[0m\u001b[0mi\u001b[0m\u001b[1;33m]\u001b[0m\u001b[1;33m.\u001b[0m\u001b[0mvalues\u001b[0m\u001b[1;33m(\u001b[0m\u001b[1;33m)\u001b[0m\u001b[1;33m)\u001b[0m\u001b[1;33m[\u001b[0m\u001b[1;36m1\u001b[0m\u001b[1;33m]\u001b[0m\u001b[1;33m\u001b[0m\u001b[1;33m\u001b[0m\u001b[0m\n\u001b[0;32m     13\u001b[0m     \u001b[0mprint\u001b[0m\u001b[1;33m(\u001b[0m\u001b[0mname\u001b[0m\u001b[1;33m,\u001b[0m \u001b[0mage\u001b[0m\u001b[1;33m)\u001b[0m\u001b[1;33m\u001b[0m\u001b[1;33m\u001b[0m\u001b[0m\n\u001b[1;32m---> 14\u001b[1;33m     \u001b[0mnames\u001b[0m \u001b[1;33m=\u001b[0m \u001b[0mnames\u001b[0m\u001b[1;33m.\u001b[0m\u001b[0mappend\u001b[0m\u001b[1;33m(\u001b[0m\u001b[0mname\u001b[0m\u001b[1;33m)\u001b[0m\u001b[1;33m\u001b[0m\u001b[1;33m\u001b[0m\u001b[0m\n\u001b[0m\u001b[0;32m     15\u001b[0m     \u001b[0mages\u001b[0m \u001b[1;33m=\u001b[0m \u001b[0mages\u001b[0m\u001b[1;33m.\u001b[0m\u001b[0mappend\u001b[0m\u001b[1;33m(\u001b[0m\u001b[0mage\u001b[0m\u001b[1;33m)\u001b[0m\u001b[1;33m\u001b[0m\u001b[1;33m\u001b[0m\u001b[0m\n",
      "\u001b[1;31mAttributeError\u001b[0m: 'NoneType' object has no attribute 'append'"
     ]
    }
   ],
   "source": [
    "Input_1 = {'Person_Details': [{\"Name\" : 'P1', 'Age': 10},\n",
    "{\"Name\" : 'P2', 'Age': 15},\n",
    "{\"Name\" : 'P3', 'Age': 6},\n",
    "{\"Name\" : 'P4', 'Age': 20}]}\n",
    "\n",
    "#print(list(list(Input_1.values())[0][0].values())[1])\n",
    "\n",
    "names = []\n",
    "ages = []\n",
    "for i in range(len(list(Input_1.values())[0])):\n",
    "    name = list(list(Input_1.values())[0][i].values())[0]\n",
    "    age = list(list(Input_1.values())[0][i].values())[1]\n",
    "    print(name, age)\n",
    "    names = names.append(name)\n",
    "    ages = ages.append(age)"
   ]
  },
  {
   "cell_type": "code",
   "execution_count": 73,
   "id": "63f08b0a",
   "metadata": {},
   "outputs": [
    {
     "name": "stdout",
     "output_type": "stream",
     "text": [
      "0\n",
      "P1 P1\n"
     ]
    },
    {
     "ename": "TypeError",
     "evalue": "'builtin_function_or_method' object is not subscriptable",
     "output_type": "error",
     "traceback": [
      "\u001b[1;31m---------------------------------------------------------------------------\u001b[0m",
      "\u001b[1;31mTypeError\u001b[0m                                 Traceback (most recent call last)",
      "\u001b[1;32m~\\AppData\\Local\\Temp\\ipykernel_6972\\2326970175.py\u001b[0m in \u001b[0;36m<module>\u001b[1;34m\u001b[0m\n\u001b[0;32m      7\u001b[0m     \u001b[0mAge\u001b[0m \u001b[1;33m=\u001b[0m \u001b[1;33m(\u001b[0m\u001b[0mlist\u001b[0m\u001b[1;33m(\u001b[0m\u001b[0mlist\u001b[0m\u001b[1;33m(\u001b[0m\u001b[0mInput_1\u001b[0m\u001b[1;33m.\u001b[0m\u001b[0mvalues\u001b[0m\u001b[1;33m(\u001b[0m\u001b[1;33m)\u001b[0m\u001b[1;33m)\u001b[0m\u001b[1;33m[\u001b[0m\u001b[1;36m0\u001b[0m\u001b[1;33m]\u001b[0m\u001b[1;33m[\u001b[0m\u001b[0mi\u001b[0m\u001b[1;33m]\u001b[0m\u001b[1;33m.\u001b[0m\u001b[0mvalues\u001b[0m\u001b[1;33m(\u001b[0m\u001b[1;33m)\u001b[0m\u001b[1;33m)\u001b[0m\u001b[1;33m[\u001b[0m\u001b[1;36m0\u001b[0m\u001b[1;33m]\u001b[0m\u001b[1;33m)\u001b[0m\u001b[1;33m\u001b[0m\u001b[1;33m\u001b[0m\u001b[0m\n\u001b[0;32m      8\u001b[0m     \u001b[0mprint\u001b[0m\u001b[1;33m(\u001b[0m\u001b[0mName\u001b[0m\u001b[1;33m,\u001b[0m\u001b[0mAge\u001b[0m\u001b[1;33m)\u001b[0m\u001b[1;33m\u001b[0m\u001b[1;33m\u001b[0m\u001b[0m\n\u001b[1;32m----> 9\u001b[1;33m     \u001b[0mNames\u001b[0m \u001b[1;33m=\u001b[0m \u001b[0mNames\u001b[0m\u001b[1;33m.\u001b[0m\u001b[0mappend\u001b[0m\u001b[1;33m[\u001b[0m\u001b[0mName\u001b[0m\u001b[1;33m]\u001b[0m\u001b[1;33m\u001b[0m\u001b[1;33m\u001b[0m\u001b[0m\n\u001b[0m\u001b[0;32m     10\u001b[0m     \u001b[0mAges\u001b[0m \u001b[1;33m=\u001b[0m \u001b[0mAges\u001b[0m\u001b[1;33m.\u001b[0m\u001b[0mappend\u001b[0m\u001b[1;33m[\u001b[0m\u001b[0mAge\u001b[0m\u001b[1;33m]\u001b[0m\u001b[1;33m\u001b[0m\u001b[1;33m\u001b[0m\u001b[0m\n\u001b[0;32m     11\u001b[0m \u001b[1;33m\u001b[0m\u001b[0m\n",
      "\u001b[1;31mTypeError\u001b[0m: 'builtin_function_or_method' object is not subscriptable"
     ]
    }
   ],
   "source": [
    "Names = []\n",
    "Ages = []\n",
    "\n",
    "for i in range(len(list(Input_1.values())[0])):\n",
    "    print(i)\n",
    "    Name = (list(list(Input_1.values())[0][i].values())[0])\n",
    "    Age = (list(list(Input_1.values())[0][i].values())[0])\n",
    "    print(Name,Age)\n",
    "    Names = Names.append(Name)\n",
    "    Ages = Ages.append(Age)\n",
    "    "
   ]
  },
  {
   "cell_type": "code",
   "execution_count": 86,
   "id": "e4eeea39",
   "metadata": {},
   "outputs": [
    {
     "name": "stdout",
     "output_type": "stream",
     "text": [
      "['P1', 'P2', 'P3', 'P4'] [10, 15, 6, 20]\n"
     ]
    },
    {
     "data": {
      "text/plain": [
       "'P4'"
      ]
     },
     "execution_count": 86,
     "metadata": {},
     "output_type": "execute_result"
    }
   ],
   "source": [
    "Names = []\n",
    "Ages = []\n",
    "\n",
    "for i in range(len(list(Input_1.values())[0])):\n",
    "    Names.append(list(list(Input_1.values())[0][i].values())[0])\n",
    "    Ages.append(list(list(Input_1.values())[0][i].values())[1])\n",
    "\n",
    "    \n",
    "print(Names, Ages)\n",
    "DF = pd.DataFrame({'Names' : Names, 'Ages' : Ages})\n",
    "\n",
    "DF['Names'][DF['Ages'].idxmax()]"
   ]
  },
  {
   "cell_type": "code",
   "execution_count": 64,
   "id": "f930d5a6",
   "metadata": {},
   "outputs": [
    {
     "data": {
      "text/plain": [
       "{'Name': 'P1', 'Age': 10}"
      ]
     },
     "execution_count": 64,
     "metadata": {},
     "output_type": "execute_result"
    }
   ],
   "source": [
    "list(Input_1.values())[0][0]"
   ]
  },
  {
   "cell_type": "code",
   "execution_count": 21,
   "id": "78a03757",
   "metadata": {},
   "outputs": [
    {
     "data": {
      "text/plain": [
       "'ASDXYZTxs'"
      ]
     },
     "execution_count": 21,
     "metadata": {},
     "output_type": "execute_result"
    }
   ],
   "source": [
    "get_details(\"ASDF\" , \"XYZ\")"
   ]
  },
  {
   "cell_type": "code",
   "execution_count": 77,
   "id": "e00b971b",
   "metadata": {},
   "outputs": [
    {
     "data": {
      "text/plain": [
       "[0, 1, 2, 3, 4]"
      ]
     },
     "execution_count": 77,
     "metadata": {},
     "output_type": "execute_result"
    }
   ],
   "source": [
    "a = []\n",
    "for i in range(5):\n",
    "    a.append(i)\n",
    "a"
   ]
  },
  {
   "cell_type": "code",
   "execution_count": null,
   "id": "f1a8cfcd",
   "metadata": {},
   "outputs": [],
   "source": []
  },
  {
   "cell_type": "code",
   "execution_count": null,
   "id": "3629707d",
   "metadata": {},
   "outputs": [],
   "source": []
  },
  {
   "cell_type": "code",
   "execution_count": null,
   "id": "fc89fa8b",
   "metadata": {},
   "outputs": [],
   "source": []
  },
  {
   "cell_type": "code",
   "execution_count": null,
   "id": "e5f2ab8e",
   "metadata": {},
   "outputs": [],
   "source": []
  },
  {
   "cell_type": "code",
   "execution_count": null,
   "id": "9e28ef30",
   "metadata": {},
   "outputs": [],
   "source": []
  },
  {
   "cell_type": "code",
   "execution_count": 14,
   "id": "d20dcd04",
   "metadata": {},
   "outputs": [
    {
     "name": "stdout",
     "output_type": "stream",
     "text": [
      "end_time:  2023-05-16 13:04:32.791638\n",
      "Time Consumption: 0Days 0H:0M:1S\n"
     ]
    }
   ],
   "source": [
    "import datetime\n",
    "\n",
    "end_time = datetime.datetime.now()\n",
    "print(\"end_time: \", end_time)\n",
    "\n",
    "TD = pd.to_datetime(end_time) - pd.to_datetime(start_time)\n",
    "\n",
    "#print(\"Time Consumption: \", TD.components)\n",
    "print(\"Time Consumption: \"+ str(TD.components[0]) + \"Days \" + str(TD.components[1]) + \"H:\"\\\n",
    "      + str(TD.components[2]) + \"M:\"   + str(TD.components[3]) + \"S\")"
   ]
  },
  {
   "cell_type": "code",
   "execution_count": null,
   "id": "cc91a578",
   "metadata": {},
   "outputs": [],
   "source": []
  }
 ],
 "metadata": {
  "kernelspec": {
   "display_name": "Python 3 (ipykernel)",
   "language": "python",
   "name": "python3"
  },
  "language_info": {
   "codemirror_mode": {
    "name": "ipython",
    "version": 3
   },
   "file_extension": ".py",
   "mimetype": "text/x-python",
   "name": "python",
   "nbconvert_exporter": "python",
   "pygments_lexer": "ipython3",
   "version": "3.9.13"
  }
 },
 "nbformat": 4,
 "nbformat_minor": 5
}
